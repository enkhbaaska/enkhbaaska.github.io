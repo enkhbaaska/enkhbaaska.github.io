{
  "nbformat": 4,
  "nbformat_minor": 0,
  "metadata": {
    "colab": {
      "name": "Untitled0.ipynb",
      "provenance": [],
      "toc_visible": true,
      "authorship_tag": "ABX9TyONa1fQsQpZ3g0RXQLOlpwB",
      "include_colab_link": true
    },
    "kernelspec": {
      "name": "python3",
      "display_name": "Python 3"
    }
  },
  "cells": [
    {
      "cell_type": "markdown",
      "metadata": {
        "id": "view-in-github",
        "colab_type": "text"
      },
      "source": [
        "<a href=\"https://colab.research.google.com/github/enkhbaaska/enkhbaaska.github.io/blob/master/First_GoogleColabCode.ipynb\" target=\"_parent\"><img src=\"https://colab.research.google.com/assets/colab-badge.svg\" alt=\"Open In Colab\"/></a>"
      ]
    },
    {
      "cell_type": "code",
      "metadata": {
        "id": "gGbp5khf-Cgw",
        "outputId": "5fff1118-52fd-4099-8962-4227d2652b64",
        "colab": {
          "base_uri": "https://localhost:8080/"
        }
      },
      "source": [
        "print(\"Hello!\")"
      ],
      "execution_count": 1,
      "outputs": [
        {
          "output_type": "stream",
          "text": [
            "Hello!\n"
          ],
          "name": "stdout"
        }
      ]
    },
    {
      "cell_type": "code",
      "metadata": {
        "id": "LRLjEPTt-KX3",
        "outputId": "ed80c5d3-98b0-4f30-e19a-610718be8233",
        "colab": {
          "base_uri": "https://localhost:8080/"
        }
      },
      "source": [
        "n = range(10)\n",
        "for value in n:\n",
        "  print(value)"
      ],
      "execution_count": 3,
      "outputs": [
        {
          "output_type": "stream",
          "text": [
            "0\n",
            "1\n",
            "2\n",
            "3\n",
            "4\n",
            "5\n",
            "6\n",
            "7\n",
            "8\n",
            "9\n"
          ],
          "name": "stdout"
        }
      ]
    },
    {
      "cell_type": "markdown",
      "metadata": {
        "id": "GTiMDJdw-KwU"
      },
      "source": [
        "#This is a Heading!\n",
        "\n",
        "This is some text\n",
        "\n",
        "\n",
        "*   THis is a list\n",
        "*   Lists\n",
        "\n"
      ]
    },
    {
      "cell_type": "code",
      "metadata": {
        "id": "GyU2DpoNBKNz"
      },
      "source": [
        ""
      ],
      "execution_count": 3,
      "outputs": []
    },
    {
      "cell_type": "markdown",
      "metadata": {
        "id": "r4qGYvPFBH4W"
      },
      "source": [
        ""
      ]
    }
  ]
}